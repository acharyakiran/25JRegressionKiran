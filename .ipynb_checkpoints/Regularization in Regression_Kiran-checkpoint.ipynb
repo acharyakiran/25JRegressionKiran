{
 "cells": [
  {
   "cell_type": "markdown",
   "metadata": {},
   "source": [
    "### Problem Statement : Build a regression model which will try to predict unemployment within economy.\n",
    "\n",
    "#### Data Source: http://research.stlouisfed.org/fred2"
   ]
  },
  {
   "cell_type": "markdown",
   "metadata": {},
   "source": [
    "### Import Libraries"
   ]
  },
  {
   "cell_type": "code",
   "execution_count": 1,
   "metadata": {},
   "outputs": [
    {
     "name": "stderr",
     "output_type": "stream",
     "text": [
      "/Users/vipulgaur/opt/anaconda3/lib/python3.7/importlib/_bootstrap.py:219: RuntimeWarning: numpy.ufunc size changed, may indicate binary incompatibility. Expected 192 from C header, got 216 from PyObject\n",
      "  return f(*args, **kwds)\n",
      "/Users/vipulgaur/opt/anaconda3/lib/python3.7/importlib/_bootstrap.py:219: RuntimeWarning: numpy.ufunc size changed, may indicate binary incompatibility. Expected 192 from C header, got 216 from PyObject\n",
      "  return f(*args, **kwds)\n"
     ]
    }
   ],
   "source": [
    "import pandas as pd\n",
    "import numpy as np\n",
    "from sklearn.model_selection import train_test_split\n",
    "from sklearn.linear_model import LinearRegression, ElasticNet, Ridge, Lasso\n",
    "from sklearn.metrics import r2_score, mean_squared_error"
   ]
  },
  {
   "cell_type": "markdown",
   "metadata": {},
   "source": [
    "### Import Data"
   ]
  },
  {
   "cell_type": "code",
   "execution_count": 2,
   "metadata": {},
   "outputs": [],
   "source": [
    "df = pd.read_csv('dataset/economics.csv')"
   ]
  },
  {
   "cell_type": "code",
   "execution_count": 3,
   "metadata": {},
   "outputs": [
    {
     "data": {
      "text/plain": [
       "Index(['date', 'pce', 'pop', 'psavert', 'uempmed', 'unemploy'], dtype='object')"
      ]
     },
     "execution_count": 3,
     "metadata": {},
     "output_type": "execute_result"
    }
   ],
   "source": [
    "df.columns"
   ]
  },
  {
   "cell_type": "markdown",
   "metadata": {},
   "source": [
    "* date : date\n",
    "\n",
    "\n",
    "* pce - personal consumption expenditure (billions of dollars)\n",
    "\n",
    "\n",
    "* pop - total population (thousands)\n",
    "\n",
    "\n",
    "* psavert - personal savings rate\n",
    "\n",
    "\n",
    "* uempmed - median duration of unemployment in weeks\n",
    "\n",
    "\n",
    "* unemploy - number of unemployed in thousands <<< Target variable"
   ]
  },
  {
   "cell_type": "code",
   "execution_count": 4,
   "metadata": {},
   "outputs": [
    {
     "data": {
      "text/html": [
       "<div>\n",
       "<style scoped>\n",
       "    .dataframe tbody tr th:only-of-type {\n",
       "        vertical-align: middle;\n",
       "    }\n",
       "\n",
       "    .dataframe tbody tr th {\n",
       "        vertical-align: top;\n",
       "    }\n",
       "\n",
       "    .dataframe thead th {\n",
       "        text-align: right;\n",
       "    }\n",
       "</style>\n",
       "<table border=\"1\" class=\"dataframe\">\n",
       "  <thead>\n",
       "    <tr style=\"text-align: right;\">\n",
       "      <th></th>\n",
       "      <th>date</th>\n",
       "      <th>pce</th>\n",
       "      <th>pop</th>\n",
       "      <th>psavert</th>\n",
       "      <th>uempmed</th>\n",
       "      <th>unemploy</th>\n",
       "    </tr>\n",
       "  </thead>\n",
       "  <tbody>\n",
       "    <tr>\n",
       "      <td>0</td>\n",
       "      <td>1967-07-01</td>\n",
       "      <td>507.4</td>\n",
       "      <td>198712</td>\n",
       "      <td>12.5</td>\n",
       "      <td>4.5</td>\n",
       "      <td>2944</td>\n",
       "    </tr>\n",
       "    <tr>\n",
       "      <td>1</td>\n",
       "      <td>1967-08-01</td>\n",
       "      <td>510.5</td>\n",
       "      <td>198911</td>\n",
       "      <td>12.5</td>\n",
       "      <td>4.7</td>\n",
       "      <td>2945</td>\n",
       "    </tr>\n",
       "    <tr>\n",
       "      <td>2</td>\n",
       "      <td>1967-09-01</td>\n",
       "      <td>516.3</td>\n",
       "      <td>199113</td>\n",
       "      <td>11.7</td>\n",
       "      <td>4.6</td>\n",
       "      <td>2958</td>\n",
       "    </tr>\n",
       "    <tr>\n",
       "      <td>3</td>\n",
       "      <td>1967-10-01</td>\n",
       "      <td>512.9</td>\n",
       "      <td>199311</td>\n",
       "      <td>12.5</td>\n",
       "      <td>4.9</td>\n",
       "      <td>3143</td>\n",
       "    </tr>\n",
       "    <tr>\n",
       "      <td>4</td>\n",
       "      <td>1967-11-01</td>\n",
       "      <td>518.1</td>\n",
       "      <td>199498</td>\n",
       "      <td>12.5</td>\n",
       "      <td>4.7</td>\n",
       "      <td>3066</td>\n",
       "    </tr>\n",
       "  </tbody>\n",
       "</table>\n",
       "</div>"
      ],
      "text/plain": [
       "         date    pce     pop  psavert  uempmed  unemploy\n",
       "0  1967-07-01  507.4  198712     12.5      4.5      2944\n",
       "1  1967-08-01  510.5  198911     12.5      4.7      2945\n",
       "2  1967-09-01  516.3  199113     11.7      4.6      2958\n",
       "3  1967-10-01  512.9  199311     12.5      4.9      3143\n",
       "4  1967-11-01  518.1  199498     12.5      4.7      3066"
      ]
     },
     "execution_count": 4,
     "metadata": {},
     "output_type": "execute_result"
    }
   ],
   "source": [
    "df.head()"
   ]
  },
  {
   "cell_type": "code",
   "execution_count": 5,
   "metadata": {},
   "outputs": [
    {
     "name": "stdout",
     "output_type": "stream",
     "text": [
      "<class 'pandas.core.frame.DataFrame'>\n",
      "RangeIndex: 574 entries, 0 to 573\n",
      "Data columns (total 6 columns):\n",
      "date        574 non-null object\n",
      "pce         574 non-null float64\n",
      "pop         574 non-null int64\n",
      "psavert     574 non-null float64\n",
      "uempmed     574 non-null float64\n",
      "unemploy    574 non-null int64\n",
      "dtypes: float64(3), int64(2), object(1)\n",
      "memory usage: 27.0+ KB\n"
     ]
    }
   ],
   "source": [
    "df.info()"
   ]
  },
  {
   "cell_type": "code",
   "execution_count": 6,
   "metadata": {},
   "outputs": [
    {
     "data": {
      "text/html": [
       "<div>\n",
       "<style scoped>\n",
       "    .dataframe tbody tr th:only-of-type {\n",
       "        vertical-align: middle;\n",
       "    }\n",
       "\n",
       "    .dataframe tbody tr th {\n",
       "        vertical-align: top;\n",
       "    }\n",
       "\n",
       "    .dataframe thead th {\n",
       "        text-align: right;\n",
       "    }\n",
       "</style>\n",
       "<table border=\"1\" class=\"dataframe\">\n",
       "  <thead>\n",
       "    <tr style=\"text-align: right;\">\n",
       "      <th></th>\n",
       "      <th>pce</th>\n",
       "      <th>pop</th>\n",
       "      <th>psavert</th>\n",
       "      <th>uempmed</th>\n",
       "      <th>unemploy</th>\n",
       "    </tr>\n",
       "  </thead>\n",
       "  <tbody>\n",
       "    <tr>\n",
       "      <td>count</td>\n",
       "      <td>574.000000</td>\n",
       "      <td>574.000000</td>\n",
       "      <td>574.000000</td>\n",
       "      <td>574.000000</td>\n",
       "      <td>574.000000</td>\n",
       "    </tr>\n",
       "    <tr>\n",
       "      <td>mean</td>\n",
       "      <td>4843.510453</td>\n",
       "      <td>257189.381533</td>\n",
       "      <td>7.936585</td>\n",
       "      <td>8.610105</td>\n",
       "      <td>7771.557491</td>\n",
       "    </tr>\n",
       "    <tr>\n",
       "      <td>std</td>\n",
       "      <td>3579.287206</td>\n",
       "      <td>36730.801593</td>\n",
       "      <td>3.124394</td>\n",
       "      <td>4.108112</td>\n",
       "      <td>2641.960571</td>\n",
       "    </tr>\n",
       "    <tr>\n",
       "      <td>min</td>\n",
       "      <td>507.400000</td>\n",
       "      <td>198712.000000</td>\n",
       "      <td>1.900000</td>\n",
       "      <td>4.000000</td>\n",
       "      <td>2685.000000</td>\n",
       "    </tr>\n",
       "    <tr>\n",
       "      <td>25%</td>\n",
       "      <td>1582.225000</td>\n",
       "      <td>224896.000000</td>\n",
       "      <td>5.500000</td>\n",
       "      <td>6.000000</td>\n",
       "      <td>6284.000000</td>\n",
       "    </tr>\n",
       "    <tr>\n",
       "      <td>50%</td>\n",
       "      <td>3953.550000</td>\n",
       "      <td>253060.000000</td>\n",
       "      <td>7.700000</td>\n",
       "      <td>7.500000</td>\n",
       "      <td>7494.000000</td>\n",
       "    </tr>\n",
       "    <tr>\n",
       "      <td>75%</td>\n",
       "      <td>7667.325000</td>\n",
       "      <td>290290.750000</td>\n",
       "      <td>10.500000</td>\n",
       "      <td>9.100000</td>\n",
       "      <td>8691.000000</td>\n",
       "    </tr>\n",
       "    <tr>\n",
       "      <td>max</td>\n",
       "      <td>12161.500000</td>\n",
       "      <td>320887.000000</td>\n",
       "      <td>17.000000</td>\n",
       "      <td>25.200000</td>\n",
       "      <td>15352.000000</td>\n",
       "    </tr>\n",
       "  </tbody>\n",
       "</table>\n",
       "</div>"
      ],
      "text/plain": [
       "                pce            pop     psavert     uempmed      unemploy\n",
       "count    574.000000     574.000000  574.000000  574.000000    574.000000\n",
       "mean    4843.510453  257189.381533    7.936585    8.610105   7771.557491\n",
       "std     3579.287206   36730.801593    3.124394    4.108112   2641.960571\n",
       "min      507.400000  198712.000000    1.900000    4.000000   2685.000000\n",
       "25%     1582.225000  224896.000000    5.500000    6.000000   6284.000000\n",
       "50%     3953.550000  253060.000000    7.700000    7.500000   7494.000000\n",
       "75%     7667.325000  290290.750000   10.500000    9.100000   8691.000000\n",
       "max    12161.500000  320887.000000   17.000000   25.200000  15352.000000"
      ]
     },
     "execution_count": 6,
     "metadata": {},
     "output_type": "execute_result"
    }
   ],
   "source": [
    "df.describe()"
   ]
  },
  {
   "cell_type": "code",
   "execution_count": 9,
   "metadata": {},
   "outputs": [
    {
     "data": {
      "text/html": [
       "<div>\n",
       "<style scoped>\n",
       "    .dataframe tbody tr th:only-of-type {\n",
       "        vertical-align: middle;\n",
       "    }\n",
       "\n",
       "    .dataframe tbody tr th {\n",
       "        vertical-align: top;\n",
       "    }\n",
       "\n",
       "    .dataframe thead th {\n",
       "        text-align: right;\n",
       "    }\n",
       "</style>\n",
       "<table border=\"1\" class=\"dataframe\">\n",
       "  <thead>\n",
       "    <tr style=\"text-align: right;\">\n",
       "      <th></th>\n",
       "      <th>pce</th>\n",
       "      <th>pop</th>\n",
       "      <th>psavert</th>\n",
       "      <th>uempmed</th>\n",
       "      <th>unemploy</th>\n",
       "    </tr>\n",
       "  </thead>\n",
       "  <tbody>\n",
       "    <tr>\n",
       "      <td>count</td>\n",
       "      <td>574.000000</td>\n",
       "      <td>574.000000</td>\n",
       "      <td>574.000000</td>\n",
       "      <td>574.000000</td>\n",
       "      <td>574.000000</td>\n",
       "    </tr>\n",
       "    <tr>\n",
       "      <td>mean</td>\n",
       "      <td>0.398266</td>\n",
       "      <td>0.801495</td>\n",
       "      <td>0.466858</td>\n",
       "      <td>0.341671</td>\n",
       "      <td>7771.557491</td>\n",
       "    </tr>\n",
       "    <tr>\n",
       "      <td>std</td>\n",
       "      <td>0.294313</td>\n",
       "      <td>0.114466</td>\n",
       "      <td>0.183788</td>\n",
       "      <td>0.163020</td>\n",
       "      <td>2641.960571</td>\n",
       "    </tr>\n",
       "    <tr>\n",
       "      <td>min</td>\n",
       "      <td>0.041722</td>\n",
       "      <td>0.619258</td>\n",
       "      <td>0.111765</td>\n",
       "      <td>0.158730</td>\n",
       "      <td>2685.000000</td>\n",
       "    </tr>\n",
       "    <tr>\n",
       "      <td>25%</td>\n",
       "      <td>0.130101</td>\n",
       "      <td>0.700857</td>\n",
       "      <td>0.323529</td>\n",
       "      <td>0.238095</td>\n",
       "      <td>6284.000000</td>\n",
       "    </tr>\n",
       "    <tr>\n",
       "      <td>50%</td>\n",
       "      <td>0.325087</td>\n",
       "      <td>0.788627</td>\n",
       "      <td>0.452941</td>\n",
       "      <td>0.297619</td>\n",
       "      <td>7494.000000</td>\n",
       "    </tr>\n",
       "    <tr>\n",
       "      <td>75%</td>\n",
       "      <td>0.630459</td>\n",
       "      <td>0.904651</td>\n",
       "      <td>0.617647</td>\n",
       "      <td>0.361111</td>\n",
       "      <td>8691.000000</td>\n",
       "    </tr>\n",
       "    <tr>\n",
       "      <td>max</td>\n",
       "      <td>1.000000</td>\n",
       "      <td>1.000000</td>\n",
       "      <td>1.000000</td>\n",
       "      <td>1.000000</td>\n",
       "      <td>15352.000000</td>\n",
       "    </tr>\n",
       "  </tbody>\n",
       "</table>\n",
       "</div>"
      ],
      "text/plain": [
       "              pce         pop     psavert     uempmed      unemploy\n",
       "count  574.000000  574.000000  574.000000  574.000000    574.000000\n",
       "mean     0.398266    0.801495    0.466858    0.341671   7771.557491\n",
       "std      0.294313    0.114466    0.183788    0.163020   2641.960571\n",
       "min      0.041722    0.619258    0.111765    0.158730   2685.000000\n",
       "25%      0.130101    0.700857    0.323529    0.238095   6284.000000\n",
       "50%      0.325087    0.788627    0.452941    0.297619   7494.000000\n",
       "75%      0.630459    0.904651    0.617647    0.361111   8691.000000\n",
       "max      1.000000    1.000000    1.000000    1.000000  15352.000000"
      ]
     },
     "execution_count": 9,
     "metadata": {},
     "output_type": "execute_result"
    }
   ],
   "source": [
    "target_col = ['unemploy']\n",
    "\n",
    "predictors = ['pce', 'pop', 'psavert', 'uempmed']\n",
    "\n",
    "df[predictors] = df[predictors]/df[predictors].max()\n",
    "\n",
    "df.describe()"
   ]
  },
  {
   "cell_type": "markdown",
   "metadata": {},
   "source": [
    "#### Create training and test dataset"
   ]
  },
  {
   "cell_type": "code",
   "execution_count": 10,
   "metadata": {},
   "outputs": [],
   "source": [
    "X = df[predictors].values\n",
    "\n",
    "y = df[target_col].values"
   ]
  },
  {
   "cell_type": "code",
   "execution_count": 12,
   "metadata": {},
   "outputs": [
    {
     "name": "stdout",
     "output_type": "stream",
     "text": [
      "X_train : (401, 4)\n",
      "\n",
      "X_test : (173, 4)\n",
      "\n",
      "y_train : (401, 1)\n",
      "\n",
      "y_test : (173, 1)\n"
     ]
    }
   ],
   "source": [
    "X_train, X_test, y_train, y_test = train_test_split(X,y,test_size=0.3,random_state=42)\n",
    "\n",
    "\n",
    "print(f'X_train : {X_train.shape}\\n\\nX_test : {X_test.shape}\\n\\ny_train : {y_train.shape}\\n\\ny_test : {y_test.shape}')"
   ]
  },
  {
   "cell_type": "code",
   "execution_count": 13,
   "metadata": {},
   "outputs": [
    {
     "data": {
      "text/plain": [
       "numpy.ndarray"
      ]
     },
     "execution_count": 13,
     "metadata": {},
     "output_type": "execute_result"
    }
   ],
   "source": [
    "type(X)"
   ]
  },
  {
   "cell_type": "markdown",
   "metadata": {},
   "source": [
    "### Let's build models to compare impact of regularization"
   ]
  },
  {
   "cell_type": "markdown",
   "metadata": {},
   "source": [
    "#### Linear Regression"
   ]
  },
  {
   "cell_type": "code",
   "execution_count": 14,
   "metadata": {},
   "outputs": [
    {
     "data": {
      "text/plain": [
       "LinearRegression(copy_X=True, fit_intercept=True, n_jobs=None, normalize=False)"
      ]
     },
     "execution_count": 14,
     "metadata": {},
     "output_type": "execute_result"
    }
   ],
   "source": [
    "lm = LinearRegression()\n",
    "lm.fit(X_train, y_train)"
   ]
  },
  {
   "cell_type": "code",
   "execution_count": 17,
   "metadata": {},
   "outputs": [
    {
     "name": "stdout",
     "output_type": "stream",
     "text": [
      "Training Accuracy : \n",
      "RMSE: 968.0761455803668\n",
      "R-Squared : 0.8200876111747164\n",
      "\n",
      "\n",
      "Testing Accuracy : \n",
      "RMSE : 1025.237039194264\n",
      "R-Squared : 0.8647441266422433\n"
     ]
    }
   ],
   "source": [
    "pred_train_lr = lm.predict(X_train)\n",
    "\n",
    "print(\"Training Accuracy : \")\n",
    "\n",
    "print(f'RMSE: {np.sqrt(mean_squared_error(pred_train_lr,y_train))}')\n",
    "\n",
    "print(f'R-Squared : {r2_score(pred_train_lr,y_train)}')\n",
    "\n",
    "pred_test_lr = lm.predict(X_test)\n",
    "\n",
    "print(\"\\n\\nTesting Accuracy : \")\n",
    "\n",
    "print(f'RMSE : {np.sqrt(mean_squared_error(pred_test_lr,y_test))}')\n",
    "\n",
    "print(f'R-Squared : {r2_score(pred_test_lr,y_test)}')"
   ]
  },
  {
   "cell_type": "code",
   "execution_count": 23,
   "metadata": {},
   "outputs": [
    {
     "name": "stdout",
     "output_type": "stream",
     "text": [
      "Linear Model Coefficients : [[-18954.43215899  54899.24860794   4330.46153699  14071.10769273]]\n"
     ]
    }
   ],
   "source": [
    "print(f'Linear Model Coefficients : {lm.coef_}')"
   ]
  },
  {
   "cell_type": "code",
   "execution_count": 18,
   "metadata": {},
   "outputs": [
    {
     "data": {
      "text/html": [
       "<div>\n",
       "<style scoped>\n",
       "    .dataframe tbody tr th:only-of-type {\n",
       "        vertical-align: middle;\n",
       "    }\n",
       "\n",
       "    .dataframe tbody tr th {\n",
       "        vertical-align: top;\n",
       "    }\n",
       "\n",
       "    .dataframe thead th {\n",
       "        text-align: right;\n",
       "    }\n",
       "</style>\n",
       "<table border=\"1\" class=\"dataframe\">\n",
       "  <thead>\n",
       "    <tr style=\"text-align: right;\">\n",
       "      <th></th>\n",
       "      <th>pce</th>\n",
       "      <th>pop</th>\n",
       "      <th>psavert</th>\n",
       "      <th>uempmed</th>\n",
       "      <th>unemploy</th>\n",
       "    </tr>\n",
       "  </thead>\n",
       "  <tbody>\n",
       "    <tr>\n",
       "      <td>count</td>\n",
       "      <td>574.000000</td>\n",
       "      <td>574.000000</td>\n",
       "      <td>574.000000</td>\n",
       "      <td>574.000000</td>\n",
       "      <td>574.000000</td>\n",
       "    </tr>\n",
       "    <tr>\n",
       "      <td>mean</td>\n",
       "      <td>0.398266</td>\n",
       "      <td>0.801495</td>\n",
       "      <td>0.466858</td>\n",
       "      <td>0.341671</td>\n",
       "      <td>7771.557491</td>\n",
       "    </tr>\n",
       "    <tr>\n",
       "      <td>std</td>\n",
       "      <td>0.294313</td>\n",
       "      <td>0.114466</td>\n",
       "      <td>0.183788</td>\n",
       "      <td>0.163020</td>\n",
       "      <td>2641.960571</td>\n",
       "    </tr>\n",
       "    <tr>\n",
       "      <td>min</td>\n",
       "      <td>0.041722</td>\n",
       "      <td>0.619258</td>\n",
       "      <td>0.111765</td>\n",
       "      <td>0.158730</td>\n",
       "      <td>2685.000000</td>\n",
       "    </tr>\n",
       "    <tr>\n",
       "      <td>25%</td>\n",
       "      <td>0.130101</td>\n",
       "      <td>0.700857</td>\n",
       "      <td>0.323529</td>\n",
       "      <td>0.238095</td>\n",
       "      <td>6284.000000</td>\n",
       "    </tr>\n",
       "    <tr>\n",
       "      <td>50%</td>\n",
       "      <td>0.325087</td>\n",
       "      <td>0.788627</td>\n",
       "      <td>0.452941</td>\n",
       "      <td>0.297619</td>\n",
       "      <td>7494.000000</td>\n",
       "    </tr>\n",
       "    <tr>\n",
       "      <td>75%</td>\n",
       "      <td>0.630459</td>\n",
       "      <td>0.904651</td>\n",
       "      <td>0.617647</td>\n",
       "      <td>0.361111</td>\n",
       "      <td>8691.000000</td>\n",
       "    </tr>\n",
       "    <tr>\n",
       "      <td>max</td>\n",
       "      <td>1.000000</td>\n",
       "      <td>1.000000</td>\n",
       "      <td>1.000000</td>\n",
       "      <td>1.000000</td>\n",
       "      <td>15352.000000</td>\n",
       "    </tr>\n",
       "  </tbody>\n",
       "</table>\n",
       "</div>"
      ],
      "text/plain": [
       "              pce         pop     psavert     uempmed      unemploy\n",
       "count  574.000000  574.000000  574.000000  574.000000    574.000000\n",
       "mean     0.398266    0.801495    0.466858    0.341671   7771.557491\n",
       "std      0.294313    0.114466    0.183788    0.163020   2641.960571\n",
       "min      0.041722    0.619258    0.111765    0.158730   2685.000000\n",
       "25%      0.130101    0.700857    0.323529    0.238095   6284.000000\n",
       "50%      0.325087    0.788627    0.452941    0.297619   7494.000000\n",
       "75%      0.630459    0.904651    0.617647    0.361111   8691.000000\n",
       "max      1.000000    1.000000    1.000000    1.000000  15352.000000"
      ]
     },
     "execution_count": 18,
     "metadata": {},
     "output_type": "execute_result"
    }
   ],
   "source": [
    "df.describe()"
   ]
  },
  {
   "cell_type": "code",
   "execution_count": 19,
   "metadata": {},
   "outputs": [
    {
     "data": {
      "text/plain": [
       "7771.557491289199"
      ]
     },
     "execution_count": 19,
     "metadata": {},
     "output_type": "execute_result"
    }
   ],
   "source": [
    "df['unemploy'].mean()"
   ]
  },
  {
   "cell_type": "markdown",
   "metadata": {},
   "source": [
    "### Regularization"
   ]
  },
  {
   "cell_type": "markdown",
   "metadata": {},
   "source": [
    "In Linear regression we try to find the best coefficients which minimize the loss function.\n",
    "\n",
    "however, if coeff are too large then it leads to overfitting.\n",
    "\n",
    "**Solution : Penalize large coefficients**\n",
    "\n",
    "1) Ridge\n",
    "\n",
    "\n",
    "2) Lasso\n",
    "\n",
    "\n",
    "3) Elasticnet"
   ]
  },
  {
   "cell_type": "markdown",
   "metadata": {},
   "source": [
    "### Ridge\n",
    "\n",
    "\n",
    "In linear regression, Loss function = RMSE, OLS\n",
    "\n",
    "**Loss Function = OLS + alpha * (squared sum of coefficient values)**\n",
    "\n",
    "* Alpha - Penalty parameter - you'll have to select it\n",
    "\n",
    "\n",
    "* Low val of alpha >>> Overfitting\n",
    "\n",
    "\n",
    "* High val of alpha >>> Underfitting"
   ]
  },
  {
   "cell_type": "code",
   "execution_count": 20,
   "metadata": {},
   "outputs": [
    {
     "data": {
      "text/plain": [
       "Ridge(alpha=0.1, copy_X=True, fit_intercept=True, max_iter=None,\n",
       "      normalize=False, random_state=None, solver='auto', tol=0.001)"
      ]
     },
     "execution_count": 20,
     "metadata": {},
     "output_type": "execute_result"
    }
   ],
   "source": [
    "rr = Ridge(alpha=0.1)\n",
    "\n",
    "rr.fit(X_train, y_train)"
   ]
  },
  {
   "cell_type": "code",
   "execution_count": 21,
   "metadata": {},
   "outputs": [
    {
     "name": "stdout",
     "output_type": "stream",
     "text": [
      "Training Accuracy : \n",
      "RMSE: 1070.4626292601777\n",
      "R-Squared : 0.7483000286050683\n",
      "\n",
      "\n",
      "Testing Accuracy : \n",
      "RMSE : 1135.119045893667\n",
      "R-Squared : 0.8174472445632814\n"
     ]
    }
   ],
   "source": [
    "pred_train_lr = rr.predict(X_train)\n",
    "\n",
    "print(\"Training Accuracy : \")\n",
    "\n",
    "print(f'RMSE: {np.sqrt(mean_squared_error(pred_train_lr,y_train))}')\n",
    "\n",
    "print(f'R-Squared : {r2_score(pred_train_lr,y_train)}')\n",
    "\n",
    "pred_test_lr = rr.predict(X_test)\n",
    "\n",
    "print(\"\\n\\nTesting Accuracy : \")\n",
    "\n",
    "print(f'RMSE : {np.sqrt(mean_squared_error(pred_test_lr,y_test))}')\n",
    "\n",
    "print(f'R-Squared : {r2_score(pred_test_lr,y_test)}')"
   ]
  },
  {
   "cell_type": "code",
   "execution_count": 25,
   "metadata": {},
   "outputs": [
    {
     "name": "stdout",
     "output_type": "stream",
     "text": [
      "Ridge Model Coefficients : [[-9011.68158244 24729.64577439  1289.99885498 14256.58207005]]\n"
     ]
    }
   ],
   "source": [
    "# Linear Model Coefficients : \n",
    "# [[-18954.43215899  54899.24860794   4330.46153699  14071.10769273]]\n",
    "# Ridge Model Coefficients :\n",
    "# [[-9011.68158244 24729.64577439  1289.99885498 14256.58207005]]]\n",
    "\n",
    "print(f'Ridge Model Coefficients : {rr.coef_}')"
   ]
  },
  {
   "cell_type": "markdown",
   "metadata": {},
   "source": [
    "### Lasso : Least absolute shrinkage and selection operator\n",
    "\n",
    "**Loss Function = OLS + alpha * (summation of absolute values of magnitude of coefficients)**"
   ]
  },
  {
   "cell_type": "code",
   "execution_count": 35,
   "metadata": {},
   "outputs": [
    {
     "data": {
      "text/plain": [
       "Lasso(alpha=0.01, copy_X=True, fit_intercept=True, max_iter=1000,\n",
       "      normalize=False, positive=False, precompute=False, random_state=None,\n",
       "      selection='cyclic', tol=0.0001, warm_start=False)"
      ]
     },
     "execution_count": 35,
     "metadata": {},
     "output_type": "execute_result"
    }
   ],
   "source": [
    "lr  = Lasso(alpha=0.01)\n",
    "lr.fit(X_train, y_train)"
   ]
  },
  {
   "cell_type": "code",
   "execution_count": 36,
   "metadata": {},
   "outputs": [
    {
     "name": "stdout",
     "output_type": "stream",
     "text": [
      "Training Accuracy : \n",
      "RMSE: 968.0766125480882\n",
      "R-Squared : 0.8200232407851629\n",
      "\n",
      "\n",
      "Testing Accuracy : \n",
      "RMSE : 1025.2800928722208\n",
      "R-Squared : 0.8646988158959943\n"
     ]
    }
   ],
   "source": [
    "pred_train_lr = lr.predict(X_train)\n",
    "\n",
    "print(\"Training Accuracy : \")\n",
    "\n",
    "print(f'RMSE: {np.sqrt(mean_squared_error(pred_train_lr,y_train))}')\n",
    "\n",
    "print(f'R-Squared : {r2_score(pred_train_lr,y_train)}')\n",
    "\n",
    "pred_test_lr = lr.predict(X_test)\n",
    "\n",
    "print(\"\\n\\nTesting Accuracy : \")\n",
    "\n",
    "print(f'RMSE : {np.sqrt(mean_squared_error(pred_test_lr,y_test))}')\n",
    "\n",
    "print(f'R-Squared : {r2_score(pred_test_lr,y_test)}')"
   ]
  },
  {
   "cell_type": "code",
   "execution_count": 37,
   "metadata": {},
   "outputs": [
    {
     "name": "stdout",
     "output_type": "stream",
     "text": [
      "Lasso Model Coefficients : [-18934.0097197   54836.61414778   4323.55004444  14071.41080403]\n"
     ]
    }
   ],
   "source": [
    "# Linear Model Coefficients : \n",
    "# [[-18954.43215899  54899.24860794   4330.46153699  14071.10769273]]\n",
    "\n",
    "# Ridge Model Coefficients :\n",
    "# [[-9011.68158244 24729.64577439  1289.99885498 14256.58207005]]]\n",
    "\n",
    "# Lasso Model Coefficients : \n",
    "# [-18750.56797485  54273.81719396   4261.3743402   14074.18054241]\n",
    "\n",
    "print(f'Lasso Model Coefficients : {lr.coef_}')"
   ]
  },
  {
   "cell_type": "markdown",
   "metadata": {},
   "source": [
    "### Elasticnet - Combination of both Lasso and Ridge"
   ]
  },
  {
   "cell_type": "code",
   "execution_count": 38,
   "metadata": {},
   "outputs": [
    {
     "data": {
      "text/plain": [
       "ElasticNet(alpha=0.01, copy_X=True, fit_intercept=True, l1_ratio=0.5,\n",
       "           max_iter=1000, normalize=False, positive=False, precompute=False,\n",
       "           random_state=None, selection='cyclic', tol=0.0001, warm_start=False)"
      ]
     },
     "execution_count": 38,
     "metadata": {},
     "output_type": "execute_result"
    }
   ],
   "source": [
    "er = ElasticNet(alpha=0.01)\n",
    "er.fit(X_train,y_train)"
   ]
  },
  {
   "cell_type": "code",
   "execution_count": 39,
   "metadata": {},
   "outputs": [
    {
     "name": "stdout",
     "output_type": "stream",
     "text": [
      "Training Accuracy : \n",
      "RMSE: 1341.57189779199\n",
      "R-Squared : 0.4555544973361728\n",
      "\n",
      "\n",
      "Testing Accuracy : \n",
      "RMSE : 1464.1035435648603\n",
      "R-Squared : 0.5629771795350077\n"
     ]
    }
   ],
   "source": [
    "pred_train_lr = er.predict(X_train)\n",
    "\n",
    "print(\"Training Accuracy : \")\n",
    "\n",
    "print(f'RMSE: {np.sqrt(mean_squared_error(pred_train_lr,y_train))}')\n",
    "\n",
    "print(f'R-Squared : {r2_score(pred_train_lr,y_train)}')\n",
    "\n",
    "pred_test_lr = er.predict(X_test)\n",
    "\n",
    "print(\"\\n\\nTesting Accuracy : \")\n",
    "\n",
    "print(f'RMSE : {np.sqrt(mean_squared_error(pred_test_lr,y_test))}')\n",
    "\n",
    "print(f'R-Squared : {r2_score(pred_test_lr,y_test)}')"
   ]
  },
  {
   "cell_type": "code",
   "execution_count": 40,
   "metadata": {},
   "outputs": [
    {
     "name": "stdout",
     "output_type": "stream",
     "text": [
      "Elasticnet Model Coefficients : [ 991.1097095  2804.06079157 1174.10663612 9686.27859074]\n"
     ]
    }
   ],
   "source": [
    "# Linear Model Coefficients : \n",
    "# [[-18954.43215899  54899.24860794   4330.46153699  14071.10769273]]\n",
    "\n",
    "# Ridge Model Coefficients :\n",
    "# [[-9011.68158244 24729.64577439  1289.99885498 14256.58207005]]]\n",
    "\n",
    "# Lasso Model Coefficients : \n",
    "# [-18750.56797485  54273.81719396   4261.3743402   14074.18054241]\n",
    "\n",
    "\n",
    "# Elasticnet Model Coefficients : \n",
    "# [ 991.1097095  2804.06079157 1174.10663612 9686.27859074]\n",
    "\n",
    "\n",
    "print(f'Elasticnet Model Coefficients : {er.coef_}')"
   ]
  },
  {
   "cell_type": "markdown",
   "metadata": {},
   "source": [
    "### Selection of Coefficients using cross validation"
   ]
  },
  {
   "cell_type": "code",
   "execution_count": 41,
   "metadata": {},
   "outputs": [],
   "source": [
    "from sklearn.linear_model import RidgeCV, LassoCV, ElasticNetCV"
   ]
  },
  {
   "cell_type": "code",
   "execution_count": 42,
   "metadata": {},
   "outputs": [
    {
     "data": {
      "text/plain": [
       "RidgeCV(alphas=array([1.e-04, 1.e-03, 1.e-02, 1.e-01, 1.e+00]), cv=None,\n",
       "        fit_intercept=True, gcv_mode=None, normalize=False, scoring=None,\n",
       "        store_cv_values=False)"
      ]
     },
     "execution_count": 42,
     "metadata": {},
     "output_type": "execute_result"
    }
   ],
   "source": [
    "rrcv = RidgeCV(alphas=[0.0001,0.001,0.01,0.1,1])\n",
    "rrcv.fit(X_train,y_train)"
   ]
  },
  {
   "cell_type": "code",
   "execution_count": 43,
   "metadata": {},
   "outputs": [
    {
     "name": "stdout",
     "output_type": "stream",
     "text": [
      "Training Accuracy : \n",
      "RMSE: 968.0766757718355\n",
      "R-Squared : 0.8200256582455017\n",
      "\n",
      "\n",
      "Testing Accuracy : \n",
      "RMSE : 1025.2847617742148\n",
      "R-Squared : 0.8647013666508987\n"
     ]
    }
   ],
   "source": [
    "pred_train_lr = rrcv.predict(X_train)\n",
    "\n",
    "print(\"Training Accuracy : \")\n",
    "\n",
    "print(f'RMSE: {np.sqrt(mean_squared_error(pred_train_lr,y_train))}')\n",
    "\n",
    "print(f'R-Squared : {r2_score(pred_train_lr,y_train)}')\n",
    "\n",
    "pred_test_lr = rrcv.predict(X_test)\n",
    "\n",
    "print(\"\\n\\nTesting Accuracy : \")\n",
    "\n",
    "print(f'RMSE : {np.sqrt(mean_squared_error(pred_test_lr,y_test))}')\n",
    "\n",
    "print(f'R-Squared : {r2_score(pred_test_lr,y_test)}')"
   ]
  },
  {
   "cell_type": "code",
   "execution_count": 44,
   "metadata": {},
   "outputs": [
    {
     "name": "stdout",
     "output_type": "stream",
     "text": [
      "Ridge Cross Validation Model Coefficients : [[-18932.79922413  54831.93312551   4323.1503764   14072.23225811]]\n"
     ]
    }
   ],
   "source": [
    "print(f'Ridge Cross Validation Model Coefficients : {rrcv.coef_}')"
   ]
  },
  {
   "cell_type": "code",
   "execution_count": 45,
   "metadata": {},
   "outputs": [
    {
     "name": "stdout",
     "output_type": "stream",
     "text": [
      "Best Value of alpha : 0.0001\n"
     ]
    }
   ],
   "source": [
    "print(f'Best Value of alpha : {rrcv.alpha_}')"
   ]
  },
  {
   "cell_type": "markdown",
   "metadata": {},
   "source": [
    "# Great Job !"
   ]
  }
 ],
 "metadata": {
  "kernelspec": {
   "display_name": "Python 3",
   "language": "python",
   "name": "python3"
  },
  "language_info": {
   "codemirror_mode": {
    "name": "ipython",
    "version": 3
   },
   "file_extension": ".py",
   "mimetype": "text/x-python",
   "name": "python",
   "nbconvert_exporter": "python",
   "pygments_lexer": "ipython3",
   "version": "3.7.4"
  }
 },
 "nbformat": 4,
 "nbformat_minor": 2
}
